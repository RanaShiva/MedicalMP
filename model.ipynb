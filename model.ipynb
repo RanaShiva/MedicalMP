{
 "cells": [
  {
   "cell_type": "code",
   "execution_count": 48,
   "id": "369bb02f",
   "metadata": {},
   "outputs": [],
   "source": [
    "# multi-class classification with Keras\n",
    "import pandas\n",
    "from keras.models import Sequential\n",
    "from keras.layers import Dense\n",
    "# from keras.wrappers.scikit_learn import KerasClassifier\n",
    "from scikeras.wrappers import KerasClassifier, KerasRegressor\n",
    "from keras.utils import np_utils\n",
    "from sklearn.model_selection import cross_val_score\n",
    "from sklearn.model_selection import KFold\n",
    "from sklearn.preprocessing import LabelEncoder\n",
    "from sklearn.pipeline import Pipeline"
   ]
  },
  {
   "cell_type": "code",
   "execution_count": 49,
   "id": "e2be3124",
   "metadata": {},
   "outputs": [],
   "source": [
    "# load dataset\n",
    "dataframe = pandas.read_csv(\"dataDisease/Training.csv\", header=0)\n",
    "dataset = dataframe.values\n",
    "X = dataset[:, 0:132].astype(int)\n",
    "Y = dataset[:, 132]\n",
    "# encode class values as integers\n",
    "encoder = LabelEncoder()\n",
    "encoder.fit(Y)\n",
    "encoded_Y = encoder.transform(Y)\n",
    "# convert integers to dummy variables (i.e. one hot encoded)\n",
    "dummy_y = np_utils.to_categorical(encoded_Y)"
   ]
  },
  {
   "cell_type": "code",
   "execution_count": 50,
   "id": "7ddce3f7",
   "metadata": {},
   "outputs": [
    {
     "name": "stdout",
     "output_type": "stream",
     "text": [
      "Epoch 1/50\n",
      "154/154 [==============================] - 1s 1ms/step - loss: 1.2075 - accuracy: 0.8102\n",
      "Epoch 2/50\n",
      "154/154 [==============================] - 0s 938us/step - loss: 0.0098 - accuracy: 1.0000\n",
      "Epoch 3/50\n",
      "154/154 [==============================] - 0s 908us/step - loss: 0.0031 - accuracy: 1.0000\n",
      "Epoch 4/50\n",
      "154/154 [==============================] - 0s 941us/step - loss: 0.0015 - accuracy: 1.0000\n",
      "Epoch 5/50\n",
      "154/154 [==============================] - 0s 982us/step - loss: 9.2211e-04 - accuracy: 1.0000\n",
      "Epoch 6/50\n",
      "154/154 [==============================] - 0s 940us/step - loss: 6.0725e-04 - accuracy: 1.0000\n",
      "Epoch 7/50\n",
      "154/154 [==============================] - 0s 888us/step - loss: 4.2564e-04 - accuracy: 1.0000\n",
      "Epoch 8/50\n",
      "154/154 [==============================] - 0s 941us/step - loss: 3.1785e-04 - accuracy: 1.0000\n",
      "Epoch 9/50\n",
      "154/154 [==============================] - 0s 994us/step - loss: 2.4444e-04 - accuracy: 1.0000\n",
      "Epoch 10/50\n",
      "154/154 [==============================] - 0s 908us/step - loss: 1.8947e-04 - accuracy: 1.0000\n",
      "Epoch 11/50\n",
      "154/154 [==============================] - 0s 914us/step - loss: 1.5274e-04 - accuracy: 1.0000\n",
      "Epoch 12/50\n",
      "154/154 [==============================] - 0s 963us/step - loss: 1.2380e-04 - accuracy: 1.0000\n",
      "Epoch 13/50\n",
      "154/154 [==============================] - 0s 968us/step - loss: 1.0269e-04 - accuracy: 1.0000\n",
      "Epoch 14/50\n",
      "154/154 [==============================] - 0s 933us/step - loss: 8.5966e-05 - accuracy: 1.0000\n",
      "Epoch 15/50\n",
      "154/154 [==============================] - 0s 955us/step - loss: 7.3021e-05 - accuracy: 1.0000\n",
      "Epoch 16/50\n",
      "154/154 [==============================] - 0s 951us/step - loss: 6.1660e-05 - accuracy: 1.0000\n",
      "Epoch 17/50\n",
      "154/154 [==============================] - 0s 931us/step - loss: 5.3242e-05 - accuracy: 1.0000\n",
      "Epoch 18/50\n",
      "154/154 [==============================] - 0s 889us/step - loss: 4.5888e-05 - accuracy: 1.0000\n",
      "Epoch 19/50\n",
      "154/154 [==============================] - 0s 911us/step - loss: 3.9898e-05 - accuracy: 1.0000\n",
      "Epoch 20/50\n",
      "154/154 [==============================] - 0s 946us/step - loss: 3.4957e-05 - accuracy: 1.0000\n",
      "Epoch 21/50\n",
      "154/154 [==============================] - 0s 920us/step - loss: 3.0608e-05 - accuracy: 1.0000\n",
      "Epoch 22/50\n",
      "154/154 [==============================] - 0s 921us/step - loss: 2.7165e-05 - accuracy: 1.0000\n",
      "Epoch 23/50\n",
      "154/154 [==============================] - 0s 905us/step - loss: 2.3826e-05 - accuracy: 1.0000\n",
      "Epoch 24/50\n",
      "154/154 [==============================] - 0s 903us/step - loss: 2.1111e-05 - accuracy: 1.0000\n",
      "Epoch 25/50\n",
      "154/154 [==============================] - 0s 935us/step - loss: 1.8876e-05 - accuracy: 1.0000\n",
      "Epoch 26/50\n",
      "154/154 [==============================] - 0s 894us/step - loss: 1.6773e-05 - accuracy: 1.0000\n",
      "Epoch 27/50\n",
      "154/154 [==============================] - 0s 918us/step - loss: 1.4966e-05 - accuracy: 1.0000\n",
      "Epoch 28/50\n",
      "154/154 [==============================] - 0s 944us/step - loss: 1.3417e-05 - accuracy: 1.0000\n",
      "Epoch 29/50\n",
      "154/154 [==============================] - 0s 945us/step - loss: 1.2001e-05 - accuracy: 1.0000\n",
      "Epoch 30/50\n",
      "154/154 [==============================] - 0s 966us/step - loss: 1.0833e-05 - accuracy: 1.0000\n",
      "Epoch 31/50\n",
      "154/154 [==============================] - 0s 918us/step - loss: 9.7136e-06 - accuracy: 1.0000\n",
      "Epoch 32/50\n",
      "154/154 [==============================] - 0s 955us/step - loss: 8.7257e-06 - accuracy: 1.0000\n",
      "Epoch 33/50\n",
      "154/154 [==============================] - 0s 966us/step - loss: 7.8894e-06 - accuracy: 1.0000\n",
      "Epoch 34/50\n",
      "154/154 [==============================] - 0s 955us/step - loss: 7.1283e-06 - accuracy: 1.0000\n",
      "Epoch 35/50\n",
      "154/154 [==============================] - 0s 939us/step - loss: 6.4517e-06 - accuracy: 1.0000\n",
      "Epoch 36/50\n",
      "154/154 [==============================] - 0s 1ms/step - loss: 5.8306e-06 - accuracy: 1.0000\n",
      "Epoch 37/50\n",
      "154/154 [==============================] - 0s 984us/step - loss: 5.2853e-06 - accuracy: 1.0000\n",
      "Epoch 38/50\n",
      "154/154 [==============================] - 0s 1ms/step - loss: 4.7861e-06 - accuracy: 1.0000\n",
      "Epoch 39/50\n",
      "154/154 [==============================] - 0s 969us/step - loss: 4.3566e-06 - accuracy: 1.0000\n",
      "Epoch 40/50\n",
      "154/154 [==============================] - 0s 980us/step - loss: 3.9395e-06 - accuracy: 1.0000\n",
      "Epoch 41/50\n",
      "154/154 [==============================] - 0s 969us/step - loss: 3.5790e-06 - accuracy: 1.0000\n",
      "Epoch 42/50\n",
      "154/154 [==============================] - 0s 949us/step - loss: 3.2497e-06 - accuracy: 1.0000\n",
      "Epoch 43/50\n",
      "154/154 [==============================] - 0s 964us/step - loss: 2.9685e-06 - accuracy: 1.0000\n",
      "Epoch 44/50\n",
      "154/154 [==============================] - 0s 935us/step - loss: 2.6960e-06 - accuracy: 1.0000\n",
      "Epoch 45/50\n",
      "154/154 [==============================] - 0s 927us/step - loss: 2.4491e-06 - accuracy: 1.0000\n",
      "Epoch 46/50\n",
      "154/154 [==============================] - 0s 948us/step - loss: 2.2358e-06 - accuracy: 1.0000\n",
      "Epoch 47/50\n",
      "154/154 [==============================] - 0s 956us/step - loss: 2.0395e-06 - accuracy: 1.0000\n",
      "Epoch 48/50\n",
      "154/154 [==============================] - 0s 948us/step - loss: 1.8582e-06 - accuracy: 1.0000\n",
      "Epoch 49/50\n",
      "154/154 [==============================] - 0s 1ms/step - loss: 1.6904e-06 - accuracy: 1.0000\n",
      "Epoch 50/50\n",
      "154/154 [==============================] - 0s 984us/step - loss: 1.5448e-06 - accuracy: 1.0000\n"
     ]
    },
    {
     "data": {
      "text/plain": [
       "<keras.callbacks.History at 0x232c1571cc0>"
      ]
     },
     "execution_count": 50,
     "metadata": {},
     "output_type": "execute_result"
    }
   ],
   "source": [
    "# define baseline model\n",
    "    # create model\n",
    "model = Sequential()\n",
    "model.add(Dense(132, input_dim=132, activation='relu'))\n",
    "model.add(Dense(128, activation='relu'))\n",
    "model.add(Dense(64, activation='relu'))\n",
    "model.add(Dense(41, activation='softmax'))\n",
    "# Compile model\n",
    "model.compile(loss='categorical_crossentropy',\n",
    "              optimizer='adam',\n",
    "              metrics=['accuracy'])\n",
    "\n",
    "\n",
    "\n",
    "model.fit(X, dummy_y, epochs=50)"
   ]
  },
  {
   "cell_type": "code",
   "execution_count": 51,
   "id": "09e5433b",
   "metadata": {},
   "outputs": [],
   "source": [
    "# load dataset\n",
    "dataframe_test = pandas.read_csv(\"dataDisease/Testing.csv\", header=0)\n",
    "dataset_test = dataframe_test.values\n",
    "X_test = dataset_test[:, 0:132].astype(int)\n",
    "Y_test = dataset_test[:, 132]\n",
    "# encode class values as integers\n",
    "encoder_test = LabelEncoder()\n",
    "encoder_test.fit(Y_test)\n",
    "encoded_Y_test = encoder_test.transform(Y_test)\n",
    "# convert integers to dummy variables (i.e. one hot encoded)\n",
    "dummy_y_test = np_utils.to_categorical(encoded_Y_test)"
   ]
  },
  {
   "cell_type": "code",
   "execution_count": 52,
   "id": "cbb1f56e",
   "metadata": {},
   "outputs": [
    {
     "name": "stdout",
     "output_type": "stream",
     "text": [
      "154/154 [==============================] - 0s 572us/step\n",
      "Accuracy on training data: 1.0% \n",
      " Error on training data: 0.0\n"
     ]
    }
   ],
   "source": [
    "pred_train= model.predict(X)\n",
    "scores = model.evaluate(X, dummy_y, verbose=0)\n",
    "print('Accuracy on training data: {}% \\n Error on training data: {}'.format(scores[1], 1 - scores[1]))     "
   ]
  },
  {
   "cell_type": "code",
   "execution_count": 53,
   "id": "2c373cae",
   "metadata": {},
   "outputs": [
    {
     "name": "stdout",
     "output_type": "stream",
     "text": [
      "2/2 [==============================] - 0s 5ms/step\n",
      "Accuracy on test data: 0.976190447807312% \n",
      " Error on test data: 0.02380955219268799\n"
     ]
    }
   ],
   "source": [
    "pred_test= model.predict(X_test)\n",
    "scores2 = model.evaluate(X_test, dummy_y_test, verbose=0)\n",
    "print('Accuracy on test data: {}% \\n Error on test data: {}'.format(scores2[1], 1 - scores2[1]))  "
   ]
  },
  {
   "cell_type": "code",
   "execution_count": 54,
   "id": "7998131f",
   "metadata": {},
   "outputs": [
    {
     "name": "stdout",
     "output_type": "stream",
     "text": [
      "(4920, 132)\n",
      "(4920, 41)\n",
      "(42, 132)\n",
      "(42, 41)\n"
     ]
    }
   ],
   "source": [
    "print(X.shape)\n",
    "print(dummy_y.shape)\n",
    "print(X_test.shape)\n",
    "print(dummy_y_test.shape)"
   ]
  },
  {
   "cell_type": "code",
   "execution_count": 56,
   "id": "2fd3d65f",
   "metadata": {},
   "outputs": [],
   "source": [
    "model.save(r\"model.h5\")"
   ]
  },
  {
   "cell_type": "code",
   "execution_count": null,
   "id": "03078a60",
   "metadata": {},
   "outputs": [],
   "source": []
  }
 ],
 "metadata": {
  "kernelspec": {
   "display_name": "medicalMP",
   "language": "python",
   "name": "medicalmp"
  },
  "language_info": {
   "codemirror_mode": {
    "name": "ipython",
    "version": 3
   },
   "file_extension": ".py",
   "mimetype": "text/x-python",
   "name": "python",
   "nbconvert_exporter": "python",
   "pygments_lexer": "ipython3",
   "version": "3.10.9"
  }
 },
 "nbformat": 4,
 "nbformat_minor": 5
}
